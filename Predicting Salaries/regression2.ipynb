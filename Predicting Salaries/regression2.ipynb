{
 "cells": [
  {
   "cell_type": "code",
   "execution_count": 2,
   "metadata": {
    "collapsed": true
   },
   "outputs": [],
   "source": [
    "import numpy as np\n",
    "import pandas as pd\n",
    "import matplotlib.pyplot as plt\n",
    "%matplotlib inline"
   ]
  },
  {
   "cell_type": "code",
   "execution_count": 3,
   "metadata": {
    "collapsed": false
   },
   "outputs": [],
   "source": [
    "sal = pd.read_csv('salaries_parent.csv')\n",
    "## Thanks to Jaskiratr for putting this data together and letting me use it ! \n"
   ]
  },
  {
   "cell_type": "code",
   "execution_count": 4,
   "metadata": {
    "collapsed": false
   },
   "outputs": [
    {
     "name": "stderr",
     "output_type": "stream",
     "text": [
      "/Users/jaimetanner/anaconda/lib/python3.5/site-packages/pandas/core/generic.py:2862: SettingWithCopyWarning: \n",
      "A value is trying to be set on a copy of a slice from a DataFrame\n",
      "\n",
      "See the caveats in the documentation: http://pandas.pydata.org/pandas-docs/stable/indexing.html#indexing-view-versus-copy\n",
      "  self._update_inplace(new_data)\n"
     ]
    },
    {
     "data": {
      "text/plain": [
       "True"
      ]
     },
     "execution_count": 4,
     "metadata": {},
     "output_type": "execute_result"
    }
   ],
   "source": [
    "sal['missingSalary'] = pd.isnull(sal['salary'])\n",
    "sal2 = sal[(sal.missingSalary == False)]\n",
    "sal2.shape\n",
    "sal2.head()\n",
    "\n",
    "#iff empty replace with mean value\n",
    "sal2.fillna(sal2.mean(), inplace=True)\n",
    "sal2.isnull().values.any()"
   ]
  },
  {
   "cell_type": "code",
   "execution_count": 4,
   "metadata": {
    "collapsed": false
   },
   "outputs": [
    {
     "data": {
      "text/html": [
       "<div>\n",
       "<table border=\"1\" class=\"dataframe\">\n",
       "  <thead>\n",
       "    <tr style=\"text-align: right;\">\n",
       "      <th></th>\n",
       "      <th>Zip</th>\n",
       "      <th>B19013_001</th>\n",
       "      <th>no_male_hs_p</th>\n",
       "      <th>no_female_hs_p</th>\n",
       "      <th>at_least_hs_male_p</th>\n",
       "      <th>at_least_hs_female_p</th>\n",
       "      <th>at_least_bach_male_p</th>\n",
       "      <th>at_least_bach_female_p</th>\n",
       "      <th>male_unemployment</th>\n",
       "      <th>female_unemployment</th>\n",
       "      <th>...</th>\n",
       "      <th>T53</th>\n",
       "      <th>T99</th>\n",
       "      <th>Place Name</th>\n",
       "      <th>State_y</th>\n",
       "      <th>State Abbreviation</th>\n",
       "      <th>County</th>\n",
       "      <th>Latitude</th>\n",
       "      <th>Longitude</th>\n",
       "      <th>Unnamed: 60</th>\n",
       "      <th>missingSalary</th>\n",
       "    </tr>\n",
       "  </thead>\n",
       "  <tbody>\n",
       "    <tr>\n",
       "      <th>0</th>\n",
       "      <td>1003</td>\n",
       "      <td>NaN</td>\n",
       "      <td>0</td>\n",
       "      <td>0</td>\n",
       "      <td>100</td>\n",
       "      <td>100</td>\n",
       "      <td>35.46798</td>\n",
       "      <td>76.470588</td>\n",
       "      <td>6.92323</td>\n",
       "      <td>7.939714</td>\n",
       "      <td>...</td>\n",
       "      <td>0</td>\n",
       "      <td>197503</td>\n",
       "      <td>Amherst</td>\n",
       "      <td>Massachusetts</td>\n",
       "      <td>MA</td>\n",
       "      <td>Hampshire</td>\n",
       "      <td>42.3919</td>\n",
       "      <td>-72.5248</td>\n",
       "      <td>NaN</td>\n",
       "      <td>False</td>\n",
       "    </tr>\n",
       "    <tr>\n",
       "      <th>1</th>\n",
       "      <td>1003</td>\n",
       "      <td>NaN</td>\n",
       "      <td>0</td>\n",
       "      <td>0</td>\n",
       "      <td>100</td>\n",
       "      <td>100</td>\n",
       "      <td>35.46798</td>\n",
       "      <td>76.470588</td>\n",
       "      <td>6.92323</td>\n",
       "      <td>7.939714</td>\n",
       "      <td>...</td>\n",
       "      <td>0</td>\n",
       "      <td>197503</td>\n",
       "      <td>Amherst</td>\n",
       "      <td>Massachusetts</td>\n",
       "      <td>MA</td>\n",
       "      <td>Hampshire</td>\n",
       "      <td>42.3919</td>\n",
       "      <td>-72.5248</td>\n",
       "      <td>NaN</td>\n",
       "      <td>False</td>\n",
       "    </tr>\n",
       "    <tr>\n",
       "      <th>2</th>\n",
       "      <td>1003</td>\n",
       "      <td>NaN</td>\n",
       "      <td>0</td>\n",
       "      <td>0</td>\n",
       "      <td>100</td>\n",
       "      <td>100</td>\n",
       "      <td>35.46798</td>\n",
       "      <td>76.470588</td>\n",
       "      <td>6.92323</td>\n",
       "      <td>7.939714</td>\n",
       "      <td>...</td>\n",
       "      <td>0</td>\n",
       "      <td>197503</td>\n",
       "      <td>Amherst</td>\n",
       "      <td>Massachusetts</td>\n",
       "      <td>MA</td>\n",
       "      <td>Hampshire</td>\n",
       "      <td>42.3919</td>\n",
       "      <td>-72.5248</td>\n",
       "      <td>NaN</td>\n",
       "      <td>False</td>\n",
       "    </tr>\n",
       "    <tr>\n",
       "      <th>3</th>\n",
       "      <td>1003</td>\n",
       "      <td>NaN</td>\n",
       "      <td>0</td>\n",
       "      <td>0</td>\n",
       "      <td>100</td>\n",
       "      <td>100</td>\n",
       "      <td>35.46798</td>\n",
       "      <td>76.470588</td>\n",
       "      <td>6.92323</td>\n",
       "      <td>7.939714</td>\n",
       "      <td>...</td>\n",
       "      <td>0</td>\n",
       "      <td>197503</td>\n",
       "      <td>Amherst</td>\n",
       "      <td>Massachusetts</td>\n",
       "      <td>MA</td>\n",
       "      <td>Hampshire</td>\n",
       "      <td>42.3919</td>\n",
       "      <td>-72.5248</td>\n",
       "      <td>NaN</td>\n",
       "      <td>False</td>\n",
       "    </tr>\n",
       "    <tr>\n",
       "      <th>4</th>\n",
       "      <td>1003</td>\n",
       "      <td>NaN</td>\n",
       "      <td>0</td>\n",
       "      <td>0</td>\n",
       "      <td>100</td>\n",
       "      <td>100</td>\n",
       "      <td>35.46798</td>\n",
       "      <td>76.470588</td>\n",
       "      <td>6.92323</td>\n",
       "      <td>7.939714</td>\n",
       "      <td>...</td>\n",
       "      <td>0</td>\n",
       "      <td>197503</td>\n",
       "      <td>Amherst</td>\n",
       "      <td>Massachusetts</td>\n",
       "      <td>MA</td>\n",
       "      <td>Hampshire</td>\n",
       "      <td>42.3919</td>\n",
       "      <td>-72.5248</td>\n",
       "      <td>NaN</td>\n",
       "      <td>False</td>\n",
       "    </tr>\n",
       "  </tbody>\n",
       "</table>\n",
       "<p>5 rows × 153 columns</p>\n",
       "</div>"
      ],
      "text/plain": [
       "    Zip  B19013_001  no_male_hs_p  no_female_hs_p  at_least_hs_male_p  \\\n",
       "0  1003         NaN             0               0                 100   \n",
       "1  1003         NaN             0               0                 100   \n",
       "2  1003         NaN             0               0                 100   \n",
       "3  1003         NaN             0               0                 100   \n",
       "4  1003         NaN             0               0                 100   \n",
       "\n",
       "   at_least_hs_female_p  at_least_bach_male_p  at_least_bach_female_p  \\\n",
       "0                   100              35.46798               76.470588   \n",
       "1                   100              35.46798               76.470588   \n",
       "2                   100              35.46798               76.470588   \n",
       "3                   100              35.46798               76.470588   \n",
       "4                   100              35.46798               76.470588   \n",
       "\n",
       "   male_unemployment  female_unemployment      ...        T53     T99  \\\n",
       "0            6.92323             7.939714      ...          0  197503   \n",
       "1            6.92323             7.939714      ...          0  197503   \n",
       "2            6.92323             7.939714      ...          0  197503   \n",
       "3            6.92323             7.939714      ...          0  197503   \n",
       "4            6.92323             7.939714      ...          0  197503   \n",
       "\n",
       "   Place Name        State_y  State Abbreviation     County  Latitude  \\\n",
       "0     Amherst  Massachusetts                  MA  Hampshire   42.3919   \n",
       "1     Amherst  Massachusetts                  MA  Hampshire   42.3919   \n",
       "2     Amherst  Massachusetts                  MA  Hampshire   42.3919   \n",
       "3     Amherst  Massachusetts                  MA  Hampshire   42.3919   \n",
       "4     Amherst  Massachusetts                  MA  Hampshire   42.3919   \n",
       "\n",
       "   Longitude  Unnamed: 60  missingSalary  \n",
       "0   -72.5248          NaN          False  \n",
       "1   -72.5248          NaN          False  \n",
       "2   -72.5248          NaN          False  \n",
       "3   -72.5248          NaN          False  \n",
       "4   -72.5248          NaN          False  \n",
       "\n",
       "[5 rows x 153 columns]"
      ]
     },
     "execution_count": 4,
     "metadata": {},
     "output_type": "execute_result"
    }
   ],
   "source": [
    "sal2.head()"
   ]
  },
  {
   "cell_type": "code",
   "execution_count": 6,
   "metadata": {
    "collapsed": false
   },
   "outputs": [
    {
     "data": {
      "text/plain": [
       "Zip                                                                 int64\n",
       "B19013_001                                                        float64\n",
       "no_male_hs_p                                                      float64\n",
       "no_female_hs_p                                                    float64\n",
       "at_least_hs_male_p                                                float64\n",
       "at_least_hs_female_p                                              float64\n",
       "at_least_bach_male_p                                              float64\n",
       "at_least_bach_female_p                                            float64\n",
       "male_unemployment                                                 float64\n",
       "female_unemployment                                               float64\n",
       "snap                                                              float64\n",
       "renter                                                            float64\n",
       "median_rent                                                       float64\n",
       "foreign_born                                                      float64\n",
       "Value for Owner-Occupied Housing Units:  Total:                     int64\n",
       "Value for Owner-Occupied Housing Units:  Less than $10,000          int64\n",
       "Value for Owner-Occupied Housing Units:  $10,000 to $14,999         int64\n",
       "Value for Owner-Occupied Housing Units:  $15,000 to $19,999         int64\n",
       "Value for Owner-Occupied Housing Units:  $20,000 to $24,999         int64\n",
       "Value for Owner-Occupied Housing Units:  $25,000 to $29,999         int64\n",
       "Value for Owner-Occupied Housing Units:  $30,000 to $34,999         int64\n",
       "Value for Owner-Occupied Housing Units:  $35,000 to $39,999         int64\n",
       "Value for Owner-Occupied Housing Units:  $40,000 to $49,999         int64\n",
       "Value for Owner-Occupied Housing Units:  $50,000 to $59,999         int64\n",
       "Value for Owner-Occupied Housing Units:  $60,000 to $69,999         int64\n",
       "Value for Owner-Occupied Housing Units:  $70,000 to $79,999         int64\n",
       "Value for Owner-Occupied Housing Units:  $80,000 to $89,999         int64\n",
       "Value for Owner-Occupied Housing Units:  $90,000 to $99,999         int64\n",
       "Value for Owner-Occupied Housing Units:  $100,000 to $124,999       int64\n",
       "Value for Owner-Occupied Housing Units:  $125,000 to $149,999       int64\n",
       "                                                                   ...   \n",
       "T11                                                                 int64\n",
       "T12                                                                 int64\n",
       "T13                                                                 int64\n",
       "T14                                                                 int64\n",
       "T15                                                                 int64\n",
       "T16                                                                 int64\n",
       "T19                                                                 int64\n",
       "T20                                                                 int64\n",
       "T21                                                                 int64\n",
       "T22                                                                 int64\n",
       "T23                                                                 int64\n",
       "T24                                                                 int64\n",
       "T25                                                                 int64\n",
       "T27                                                                 int64\n",
       "T28                                                                 int64\n",
       "T29                                                                 int64\n",
       "T40                                                                 int64\n",
       "T41                                                                 int64\n",
       "T50                                                                 int64\n",
       "T51                                                                 int64\n",
       "T53                                                                 int64\n",
       "T99                                                                 int64\n",
       "Place Name                                                         object\n",
       "State_y                                                            object\n",
       "State Abbreviation                                                 object\n",
       "County                                                             object\n",
       "Latitude                                                          float64\n",
       "Longitude                                                         float64\n",
       "Unnamed: 60                                                       float64\n",
       "missingSalary                                                        bool\n",
       "dtype: object"
      ]
     },
     "execution_count": 6,
     "metadata": {},
     "output_type": "execute_result"
    }
   ],
   "source": [
    "sal2.dtypes"
   ]
  },
  {
   "cell_type": "code",
   "execution_count": 5,
   "metadata": {
    "collapsed": false
   },
   "outputs": [
    {
     "name": "stderr",
     "output_type": "stream",
     "text": [
      "/Users/jaimetanner/anaconda/lib/python3.5/site-packages/ipykernel/__main__.py:3: SettingWithCopyWarning: \n",
      "A value is trying to be set on a copy of a slice from a DataFrame\n",
      "\n",
      "See the caveats in the documentation: http://pandas.pydata.org/pandas-docs/stable/indexing.html#indexing-view-versus-copy\n",
      "  app.launch_new_instance()\n"
     ]
    },
    {
     "data": {
      "text/plain": [
       "(1412, 135)"
      ]
     },
     "execution_count": 5,
     "metadata": {},
     "output_type": "execute_result"
    }
   ],
   "source": [
    "numTypes = ['int16', 'int32', 'int64', 'float16', 'float32', 'float64']\n",
    "X_numeric = sal2.select_dtypes(include=numTypes)\n",
    "X_numeric.drop('salary', axis=1, inplace=True)\n",
    "X_categorical = sal2.select_dtypes(exclude=numTypes)\n",
    "X_numeric.shape"
   ]
  },
  {
   "cell_type": "code",
   "execution_count": 6,
   "metadata": {
    "collapsed": false
   },
   "outputs": [],
   "source": [
    "# impute missing values in numerical features\n",
    "# DOC: http://scikit-learn.org/stable/modules/preprocessing.html\n",
    "\n",
    "from sklearn.preprocessing import Imputer\n",
    "imp = Imputer()\n",
    "imp.fit(X_numeric)\n",
    "X_numeric_imputed = imp.transform(X_numeric)"
   ]
  },
  {
   "cell_type": "code",
   "execution_count": 7,
   "metadata": {
    "collapsed": false
   },
   "outputs": [],
   "source": [
    "X_dummy_features = []\n",
    "for i in X_categorical.columns:\n",
    "    temp_dummies = pd.get_dummies(X_categorical[i])\n",
    "    X_dummy_features.append(temp_dummies)\n",
    "X_dummy_features = pd.concat(X_dummy_features, axis=1)\n",
    "# X_dummy_features.shape\n",
    "X_dummy_features = X_dummy_features.as_matrix()"
   ]
  },
  {
   "cell_type": "code",
   "execution_count": null,
   "metadata": {
    "collapsed": false
   },
   "outputs": [],
   "source": [
    "# list of X vars to include\n",
    "# X_numeric_features = ['sup1', 'sup2', 'sup3', 'sup4', 'sup5', 'disabled', 'yearsinposition', \n",
    "#          'yearsinprofession', 'age', 'cred1', 'cred2', 'inst1', 'inst2', 'inst3', 'inst4', 'inst5', 'instbudget', 'instsize','sex_by_age:__male:_',\n",
    "#  'sex_by_age:__male:_under_5_years_',\n",
    "#  'sex_by_age:__male:_5_to_9_years_',\n",
    "#  'sex_by_age:__male:_10_to_14_years_',\n",
    "#  'sex_by_age:__male:_15_to_17_years_',\n",
    "#  'sex_by_age:__male:_18_and_19_years_',\n",
    "#  'sex_by_age:__male:_20_years_',\n",
    "#  'sex_by_age:__male:_21_years_',\n",
    "#  'sex_by_age:__male:_22_to_24_years_',\n",
    "#  'sex_by_age:__male:_25_to_29_years_',\n",
    "#  'sex_by_age:__male:_30_to_34_years_',\n",
    "#  'sex_by_age:__male:_35_to_39_years_',\n",
    "#  'sex_by_age:__male:_40_to_44_years_',\n",
    "#  'sex_by_age:__male:_45_to_49_years_',\n",
    "#  'sex_by_age:__male:_50_to_54_years_',\n",
    "#  'sex_by_age:__male:_55_to_59_years_',\n",
    "#  'sex_by_age:__male:_60_and_61_years_',\n",
    "#  'sex_by_age:__male:_62_to_64_years_',\n",
    "#  'sex_by_age:__male:_65_and_66_years_',\n",
    "#  'sex_by_age:__male:_67_to_69_years_',\n",
    "#  'sex_by_age:__male:_70_to_74_years_',\n",
    "#  'sex_by_age:__male:_75_to_79_years_',\n",
    "#  'sex_by_age:__male:_80_to_84_years_',\n",
    "#  'sex_by_age:__male:_85_years_and_over_',\n",
    "#  'sex_by_age:__female:_',\n",
    "#  'sex_by_age:__female:_under_5_years_',\n",
    "#  'sex_by_age:__female:_5_to_9_years_',\n",
    "#  'sex_by_age:__female:_10_to_14_years_',\n",
    "#  'sex_by_age:__female:_15_to_17_years_',\n",
    "#  'sex_by_age:__female:_18_and_19_years_',\n",
    "#  'sex_by_age:__female:_20_years_',\n",
    "#  'sex_by_age:__female:_21_years_',\n",
    "#  'sex_by_age:__female:_22_to_24_years_',\n",
    "#  'sex_by_age:__female:_25_to_29_years_',\n",
    "#  'sex_by_age:__female:_30_to_34_years_',\n",
    "#  'sex_by_age:__female:_35_to_39_years_',\n",
    "#  'sex_by_age:__female:_40_to_44_years_',\n",
    "#  'sex_by_age:__female:_45_to_49_years_',\n",
    "#  'sex_by_age:__female:_50_to_54_years_',\n",
    "#  'sex_by_age:__female:_55_to_59_years_',\n",
    "#  'sex_by_age:__female:_60_and_61_years_',\n",
    "#  'sex_by_age:__female:_62_to_64_years_',\n",
    "#  'sex_by_age:__female:_65_and_66_years_',\n",
    "#  'sex_by_age:__female:_67_to_69_years_',\n",
    "#  'sex_by_age:__female:_70_to_74_years_',\n",
    "#  'sex_by_age:__female:_75_to_79_years_',\n",
    "#  'sex_by_age:__female:_80_to_84_years_',\n",
    "#  'sex_by_age:__female:_85_years_and_over_',\n",
    "#  'commute_over_60',\n",
    "#  'full_time',\n",
    "#  'part_time',\n",
    "#  'high_rent_burden',\n",
    "#  'extreme_rent_burden','2010 Census Population']\n",
    "# X_numeric = merged[X_numeric_features]\n",
    "# X_categorical_features = ['function', 'gender', 'race', 'highestdegree', 'category', 'insttype']\n",
    "# X_categorical = merged[X_categorical_features]"
   ]
  },
  {
   "cell_type": "code",
   "execution_count": null,
   "metadata": {
    "collapsed": false
   },
   "outputs": [],
   "source": [
    "# # create dummy variables for each of the categorical features\n",
    "# # DOC: http://pandas.pydata.org/pandas-docs/stable/generated/pandas.get_dummies.html\n",
    "# #converts dummies to 1s and 0s \n",
    "\n",
    "# Function_dummies = pd.get_dummies(X_categorical['function'])\n",
    "# gender_dummies = pd.get_dummies(X_categorical['gender'])\n",
    "# race_dummies = pd.get_dummies(X_categorical['race'])\n",
    "# highestDegree_dummies = pd.get_dummies(X_categorical['highestdegree'])\n",
    "# Category_dummies = pd.get_dummies(X_categorical['category'])\n",
    "# instType_dummies = pd.get_dummies(X_categorical['insttype'])\n",
    "\n",
    "# X_dummy_features = pd.concat([Function_dummies, gender_dummies, race_dummies, highestDegree_dummies, Category_dummies, instType_dummies], axis=1)\n",
    "\n",
    "# # convert to ndarray\n",
    "# X_dummy_features = X_dummy_features.as_matrix()"
   ]
  },
  {
   "cell_type": "code",
   "execution_count": 13,
   "metadata": {
    "collapsed": false
   },
   "outputs": [
    {
     "data": {
      "text/plain": [
       "98"
      ]
     },
     "execution_count": 13,
     "metadata": {},
     "output_type": "execute_result"
    }
   ],
   "source": [
    "# list(sal2.columns.values)\n",
    "\n",
    "sal2.columns.get_loc(\"salary\")"
   ]
  },
  {
   "cell_type": "code",
   "execution_count": 14,
   "metadata": {
    "collapsed": false
   },
   "outputs": [],
   "source": [
    "X = np.concatenate((X_dummy_features, X_numeric_imputed), axis=1)"
   ]
  },
  {
   "cell_type": "code",
   "execution_count": 15,
   "metadata": {
    "collapsed": false
   },
   "outputs": [],
   "source": [
    "# y is salary\n",
    "y = sal2.iloc[:, 98].values"
   ]
  },
  {
   "cell_type": "code",
   "execution_count": 16,
   "metadata": {
    "collapsed": true
   },
   "outputs": [],
   "source": [
    "# create training and test sets\n",
    "from sklearn.cross_validation import train_test_split\n",
    "\n",
    "X_train, X_test, y_train, y_test = train_test_split(\n",
    "         X, y, test_size=0.3, random_state=0)"
   ]
  },
  {
   "cell_type": "code",
   "execution_count": 17,
   "metadata": {
    "collapsed": true
   },
   "outputs": [],
   "source": [
    "# keep track of variance on test data, to graph\n",
    "var_to_graph = {}\n",
    "# bring residual sum of squares from regression1.ipynb\n",
    "var_to_graph['simpReg'] = 265376883.08"
   ]
  },
  {
   "cell_type": "code",
   "execution_count": 18,
   "metadata": {
    "collapsed": true
   },
   "outputs": [],
   "source": [
    "from sklearn import datasets, linear_model\n",
    "# DOC: http://scikit-learn.org/stable/modules/generated/sklearn.linear_model.LinearRegression.html"
   ]
  },
  {
   "cell_type": "code",
   "execution_count": 19,
   "metadata": {
    "collapsed": false
   },
   "outputs": [
    {
     "name": "stdout",
     "output_type": "stream",
     "text": [
      "Intercept: \n",
      " 50987.7784787\n",
      "Coefficients: \n",
      " [ -1.30306549e+04  -2.52732648e+04  -2.61683242e+04  -2.46496918e+04\n",
      "  -2.18756953e+04  -1.65196012e+04  -2.78921861e+04  -2.93763273e+04\n",
      "  -2.65229152e+04  -2.02299842e+04  -2.38995746e+04  -2.43736802e+04\n",
      "  -2.77885598e+04  -2.90363416e+04  -2.37306939e+04  -2.23553095e+04\n",
      "  -2.74231288e+04  -3.02844075e+04  -2.50440243e+04  -2.66543228e+04\n",
      "   2.10657809e-05  -1.97914700e+04  -2.55969907e+04  -2.11969399e+04\n",
      "  -2.68093348e+04  -2.46885327e+04  -2.20278017e+04  -2.81397404e+04\n",
      "  -3.62931286e+03  -4.34563406e+03   5.45491804e+02  -5.45491808e+02\n",
      "   7.88770554e+02   3.58530754e+03  -1.65190138e+03   3.22977774e+03\n",
      "  -2.59929665e+03  -1.02799588e+03   1.85659076e+03  -1.61108043e+03\n",
      "   1.61108043e+03  -3.99082423e+02   3.99082423e+02   6.40798312e+02\n",
      "   1.62146249e+03   1.07575782e+04   5.87720000e+03  -4.20892294e+03\n",
      "  -1.63810330e+03   1.56606193e+03   6.02351790e+02   1.19934025e+01\n",
      "  -5.42742625e+02   2.28148219e+02  -1.40230277e+03  -1.08483659e+03\n",
      "   2.02100486e+02  -3.56194224e+02   4.96462628e+02   7.24172607e+02\n",
      "   7.69149276e+02   3.51329884e+02   5.66556059e+02  -1.54704880e+03\n",
      "   2.93753127e+02   7.93023904e+02  -1.71187138e+02   7.39491111e+02\n",
      "  -6.38744556e+02  -2.05026411e+01  -1.89599020e+02   7.85937178e+02\n",
      "  -7.40658483e+02  -1.14074641e+03  -4.54453281e+02  -5.50402721e+02\n",
      "  -1.37761872e+03  -1.61956593e+03   2.30279294e+03  -1.39864262e+02\n",
      "  -6.71620519e+02   1.61153298e-09   1.07759400e+03   4.20589907e+02\n",
      "  -1.74779764e+03  -5.91855436e+02   9.63337320e+02   1.07246534e+03\n",
      "   3.46727591e+02  -9.49531622e+02  -4.18320035e+01  -7.90045677e+02\n",
      "  -9.13636096e+02  -4.98975331e+02   8.20729776e+02   3.83203291e+02\n",
      "  -5.73603311e+02   1.70109890e+03  -5.90038560e+02   6.15913076e+02\n",
      "   1.19708143e+03   6.38301472e+02  -7.08124164e+02  -1.46748575e-09\n",
      "   1.19961545e+02  -7.67193261e+02  -1.88747201e+02  -1.67024815e+01\n",
      "  -1.90319991e+02  -5.97913887e+02   8.66660102e+02   1.46537198e+02\n",
      "  -2.00393372e+01  -3.47977715e+03  -5.41852183e+02   4.09085356e+01\n",
      "  -4.84327559e+02  -9.86034693e+02  -6.03391301e+02  -1.23000774e+03\n",
      "   2.19895158e+02   1.45528845e+03   1.99477008e-09   3.13935804e+01\n",
      "  -1.42538436e+02   3.43364715e-10  -1.26409360e+02  -4.13473518e+02\n",
      "  -1.05793149e+03   3.86305882e+02   8.78019745e+02  -1.07705176e+03\n",
      "   7.88428786e+02   2.93409927e+02   1.02163108e+03  -9.95636446e+02\n",
      "  -1.74480050e+02  -1.09636300e+02  -9.82027414e+02   4.91007057e+02\n",
      "   1.94641990e+03   1.45408305e+03  -1.42264669e+03   1.87397097e-10\n",
      "  -7.07847782e+02  -5.34948908e-11   1.44392449e+03  -7.20881961e+02\n",
      "   4.03137015e+01   1.94308670e+02   9.67349940e+02  -1.11724857e+02\n",
      "   1.52055601e+03  -1.55317397e+03   8.56729763e+02   1.07538587e+03\n",
      "   2.31434541e+02   8.85048032e+02  -2.74214406e+02   1.38485267e+03\n",
      "   5.42896665e+02  -3.41433790e+02   4.96152716e+02   5.52101773e+02\n",
      "   3.12632197e+02   1.86193317e+03  -3.88185952e+01   3.61135911e+02\n",
      "  -9.62058587e+02   6.27817754e+02  -1.51891648e+01   7.81284924e+02\n",
      "   4.25996396e+02   2.77442373e+02  -1.27581902e+03   1.30002531e+03\n",
      "   1.25635884e+03   9.25091991e+02   5.99268915e+02   1.89012362e+03\n",
      "  -6.02985984e+02  -1.44347393e+03  -8.13847360e+01  -3.62671235e+03\n",
      "   9.45498316e+02   2.54974336e+03   5.65490649e+02  -9.31062431e+01\n",
      "  -2.58466058e+02  -6.97957019e+02   8.37806291e+02  -5.10468931e+02\n",
      "  -2.78886282e+03   2.73577221e+02  -1.21828384e+03  -2.10024489e+03\n",
      "   2.72719112e+02   6.68582255e+01   1.13521735e+03  -7.71705549e+02\n",
      "   2.27191144e+02   8.20729776e+02   2.93753127e+02   8.15329707e+01\n",
      "  -5.90038560e+02  -1.95374942e+01   1.25854244e+02   3.36037755e+01\n",
      "   7.80855588e+02  -1.67024815e+01   6.81388571e+02   5.22400638e+02\n",
      "  -6.85973361e-02  -1.83680498e+02  -1.75717258e+02   4.08205474e+02\n",
      "  -1.66287850e+02   4.46411958e+02   5.49949489e+01  -3.78721125e+02\n",
      "   2.29110890e+02   2.61342669e+02  -3.12984563e+02  -5.31831737e+02\n",
      "  -7.08124164e+02   4.03137015e+01  -4.18320035e+01  -1.90319991e+02\n",
      "  -8.44660871e+01   2.88294330e+02  -6.08611631e+02  -2.67006426e+01\n",
      "   4.09085356e+01  -6.44052301e+02  -7.13011308e+02   1.56260244e+02\n",
      "   6.42832120e+01   1.73367633e+02  -1.55889457e+01  -9.53350468e+01\n",
      "   0.00000000e+00   1.78950923e+03  -1.78950923e+03  -4.62146796e+03\n",
      "   5.06877270e+03  -1.63810330e+03   1.56606193e+03   6.02351790e+02\n",
      "   1.19934025e+01  -5.42742625e+02   2.28148219e+02  -1.40230277e+03\n",
      "  -1.08483659e+03   2.02100486e+02  -3.56194224e+02   4.96462628e+02\n",
      "   7.24172607e+02   7.69149276e+02   3.51329884e+02   1.13204671e+03\n",
      "  -1.54704880e+03   2.93753127e+02   7.93023904e+02  -1.71187138e+02\n",
      "   7.39491111e+02  -6.38744556e+02  -2.05026411e+01  -1.89599020e+02\n",
      "   7.85937178e+02  -7.40658483e+02  -1.14074641e+03  -4.54453281e+02\n",
      "  -5.50402721e+02  -1.37761872e+03  -1.61956593e+03  -9.82027414e+02\n",
      "  -1.39864262e+02  -6.71620519e+02   0.00000000e+00   1.07759400e+03\n",
      "   4.20589907e+02  -1.74779764e+03  -5.91855436e+02   9.63337320e+02\n",
      "   1.07246534e+03   3.46727591e+02  -9.49531622e+02  -4.18320035e+01\n",
      "  -7.90045677e+02  -9.13636096e+02  -4.98975331e+02   8.20729776e+02\n",
      "   3.83203291e+02  -5.73603311e+02   1.70109890e+03  -5.90038560e+02\n",
      "   6.15913076e+02   1.19708143e+03   6.38301472e+02  -7.08124164e+02\n",
      "   0.00000000e+00   1.19961545e+02  -7.67193261e+02  -1.67024815e+01\n",
      "  -1.90319991e+02  -5.97913887e+02  -9.86034693e+02   8.66660102e+02\n",
      "   1.46537198e+02  -2.00393372e+01  -3.47977715e+03  -5.41852183e+02\n",
      "   4.09085356e+01  -4.84327559e+02  -6.03391301e+02  -1.23000774e+03\n",
      "   2.19895158e+02   1.45528845e+03   3.13935804e+01  -1.42538436e+02\n",
      "   0.00000000e+00  -1.26409360e+02  -4.13473518e+02  -1.05793149e+03\n",
      "   3.86305882e+02   8.78019745e+02  -1.07705176e+03   7.88428786e+02\n",
      "   2.30279294e+03   2.93409927e+02   1.02163108e+03  -9.95636446e+02\n",
      "  -1.74480050e+02  -1.09636300e+02   4.91007057e+02   1.94641990e+03\n",
      "   1.45408305e+03  -1.42264669e+03   0.00000000e+00  -1.88747201e+02\n",
      "  -7.07847782e+02   0.00000000e+00   1.44392449e+03  -7.20881961e+02\n",
      "   4.03137015e+01   1.94308670e+02   9.67349940e+02  -1.11724857e+02\n",
      "   1.52055601e+03  -1.55317397e+03   8.56729763e+02   1.07538587e+03\n",
      "   2.31434541e+02   8.85048032e+02  -2.74214406e+02   5.42896665e+02\n",
      "  -3.41433790e+02   4.96152716e+02   1.89012362e+03   5.52101773e+02\n",
      "   3.12632197e+02   1.86193317e+03  -3.88185952e+01   3.61135911e+02\n",
      "  -9.62058587e+02   6.27817754e+02  -1.51891648e+01   7.81284924e+02\n",
      "   4.25996396e+02   2.77442373e+02  -1.27581902e+03   1.30002531e+03\n",
      "   1.25635884e+03   9.25091991e+02   5.99268915e+02  -6.02985984e+02\n",
      "  -1.44347393e+03  -8.13847360e+01  -3.62671235e+03   9.45498316e+02\n",
      "   2.54974336e+03   0.00000000e+00  -9.31062431e+01  -2.58466058e+02\n",
      "  -6.97957019e+02   1.38485267e+03   8.37806291e+02  -5.10468931e+02\n",
      "  -2.78886282e+03   2.73577221e+02  -1.21828384e+03  -2.10024489e+03\n",
      "   2.72719112e+02   6.68582255e+01   1.13521735e+03  -7.71705549e+02\n",
      "   2.27191144e+02   2.93753127e+02   8.20729776e+02  -5.90038560e+02\n",
      "   8.15329707e+01  -1.95374942e+01   1.25854244e+02   3.36037755e+01\n",
      "   7.80855588e+02  -1.67024815e+01   5.22400638e+02  -6.85973361e-02\n",
      "  -1.83680498e+02   6.81388571e+02  -1.75717258e+02   4.08205474e+02\n",
      "  -1.66287850e+02   5.49949489e+01   4.46411958e+02  -3.78721125e+02\n",
      "   2.29110890e+02  -3.12984563e+02   2.61342669e+02   4.03137015e+01\n",
      "  -4.18320035e+01  -1.90319991e+02  -8.44660871e+01  -5.31831737e+02\n",
      "  -7.08124164e+02   2.88294330e+02  -6.08611631e+02  -2.67006426e+01\n",
      "   4.09085356e+01  -6.44052301e+02  -7.13011308e+02   1.56260244e+02\n",
      "   6.42832120e+01   1.73367633e+02  -1.55889457e+01  -9.53350468e+01\n",
      "   8.20729776e+02   2.93753127e+02   8.15329707e+01  -5.90038560e+02\n",
      "  -1.95374942e+01   1.25854244e+02   3.36037755e+01   7.80855588e+02\n",
      "  -1.67024815e+01   6.81388571e+02   5.22400638e+02  -6.85973361e-02\n",
      "  -1.83680498e+02  -1.75717258e+02   4.08205474e+02  -1.66287850e+02\n",
      "   4.46411958e+02   5.49949489e+01  -3.78721125e+02   2.29110890e+02\n",
      "   2.61342669e+02  -3.12984563e+02  -5.31831737e+02  -7.08124164e+02\n",
      "   4.03137015e+01  -4.18320035e+01  -1.90319991e+02  -8.44660871e+01\n",
      "   2.88294330e+02  -6.08611631e+02  -2.67006426e+01   4.09085356e+01\n",
      "  -6.44052301e+02  -7.13011308e+02   1.56260244e+02   6.42832120e+01\n",
      "   1.73367633e+02  -1.55889457e+01  -9.53350468e+01  -6.03391301e+02\n",
      "   6.38301472e+02  -7.67193261e+02  -9.82027414e+02   2.02100486e+02\n",
      "   4.96462628e+02   2.73577221e+02   5.65490649e+02   5.66556059e+02\n",
      "  -6.97957019e+02   3.61135911e+02  -1.05793149e+03   8.78019745e+02\n",
      "  -5.50402721e+02  -1.63810330e+03  -6.02985984e+02  -1.08483659e+03\n",
      "   9.67349940e+02   1.25635884e+03  -1.88747201e+02   1.89012362e+03\n",
      "  -1.89599020e+02   2.77442373e+02  -1.14074641e+03  -5.90038560e+02\n",
      "  -7.40658483e+02  -1.55317397e+03  -2.74214406e+02   0.00000000e+00\n",
      "   1.45408305e+03  -5.91855436e+02  -3.56194224e+02   6.02351790e+02\n",
      "   1.49560216e+03   1.07246534e+03   7.88428786e+02  -1.44347393e+03\n",
      "  -1.11724857e+02   8.42370128e+02   8.20729776e+02   3.83203291e+02\n",
      "  -1.61956593e+03  -1.42538436e+02   1.19961545e+02   6.68582255e+01\n",
      "  -1.37761872e+03  -1.07705176e+03  -7.08124164e+02   7.85937178e+02\n",
      "   3.18786297e+02   2.28148219e+02  -1.58394858e+03  -1.67024815e+01\n",
      "   7.81284924e+02  -9.95636446e+02  -7.90045677e+02  -3.62671235e+03\n",
      "  -1.90319991e+02  -1.40230277e+03  -6.92123160e+02   2.93753127e+02\n",
      "   1.46537198e+02  -5.41852183e+02   3.51329884e+02   1.30002531e+03\n",
      "  -4.84327559e+02  -1.23000774e+03  -9.49531622e+02  -2.58466058e+02\n",
      "   2.93409927e+02  -4.98975331e+02   4.91007057e+02   2.17424489e+03\n",
      "   8.37806291e+02  -4.13473518e+02  -9.13636096e+02   8.66660102e+02\n",
      "  -5.10468931e+02   0.00000000e+00   2.30279294e+03   1.02163108e+03\n",
      "   9.25091991e+02   1.54279348e+02  -1.27581902e+03  -7.20881961e+02\n",
      "   2.72719112e+02   0.00000000e+00   3.13935804e+01  -7.07847782e+02\n",
      "  -1.39864262e+02  -3.41433790e+02  -1.74480050e+02   1.13521735e+03\n",
      "  -1.42264669e+03   1.94308670e+02   1.19934025e+01   1.52055601e+03\n",
      "  -4.54453281e+02   5.42896665e+02   1.86193317e+03   1.10258857e+02\n",
      "  -5.73603311e+02   1.07538587e+03   7.24172607e+02   1.38485267e+03\n",
      "   3.86305882e+02   1.94641990e+03   4.96152716e+02  -8.81188723e+02\n",
      "  -9.62058587e+02   6.27817754e+02  -1.51891648e+01   2.80482618e+02\n",
      "   4.25996396e+02   1.07759400e+03  -2.10024489e+03   2.54974336e+03\n",
      "   5.52101773e+02   3.46727591e+02   3.12632197e+02  -9.31062431e+01\n",
      "  -5.42742625e+02  -4.18320035e+01  -2.52571874e+02   6.15913076e+02\n",
      "   1.56606193e+03  -2.78886282e+03  -2.00393372e+01   7.69149276e+02\n",
      "   9.45498316e+02  -1.74779764e+03   8.85048032e+02  -1.21828384e+03\n",
      "   7.39491111e+02  -1.73776971e+03   2.27191144e+02   9.63337320e+02\n",
      "  -1.54704880e+03   0.00000000e+00   2.31434541e+02   1.19708143e+03\n",
      "  -7.71705549e+02   4.20589907e+02   0.00000000e+00   4.58076670e-01\n",
      "  -1.88661162e-01   2.56045646e+00   1.31070378e+02  -2.56045646e+00\n",
      "  -1.31070378e+02   1.31145079e+02  -3.32684054e+01  -1.18110026e+02\n",
      "  -4.28530034e+02  -2.82535484e+02  -1.13710076e+02   5.70004729e+00\n",
      "  -1.43131956e+02  -4.92081763e+00   4.98131727e+00  -1.02831759e+01\n",
      "   5.16661209e+01  -2.12209140e-01  -4.68916928e+01  -2.06853787e+00\n",
      "  -7.63635425e+01   5.68421225e+00   4.10940299e+01  -2.60831723e+01\n",
      "  -2.97931349e+00   9.46411573e+00   1.39973602e+01  -2.92302497e-01\n",
      "   1.84548118e+01  -4.90526426e+00  -1.29629407e+01   1.16702105e+01\n",
      "  -9.74544398e+00   1.52211392e+01   4.34483583e+00  -7.94731495e+00\n",
      "   1.00943873e+01   9.14155236e+00   2.54758665e+00  -3.18009337e+00\n",
      "   5.62496355e+00  -2.69685961e+00  -5.95958410e+00  -5.10013817e+00\n",
      "   9.63237614e+00  -1.06536830e+01  -1.26496019e+01   2.09785067e+01\n",
      "  -1.60636849e+01  -4.62947690e+00   7.45751070e+00  -1.18923756e+01\n",
      "   3.40423779e+01  -3.34768096e+01   1.74979384e+00   1.20665158e+01\n",
      "  -2.24328464e+01  -1.05318317e+01  -6.61159303e+01   5.52082779e+01\n",
      "   7.14243534e+01  -1.02541776e+01  -1.51214890e+00  -1.62196507e+01\n",
      "   3.69529877e+01  -2.87937635e+01   2.64446389e+01   2.31371147e+00\n",
      "   1.08019172e+00   7.86563766e+00   6.23123826e+00  -8.42720392e+00\n",
      "  -3.96220502e+00  -5.03883693e+00   1.42238446e+01  -8.23433541e+00\n",
      "  -7.53967494e+00   1.96918915e+01   2.15752156e+00   3.87606618e+01\n",
      "  -5.16481063e+01   9.14951966e+00  -4.57812159e+01   3.12731675e+01\n",
      "  -1.19211111e+00  -2.08200569e+01   1.64288014e+02   1.24681204e+01\n",
      "  -1.24681203e+01   3.32486933e+01  -8.61873341e+01   1.62041501e+03\n",
      "   6.81289759e+02  -4.98626247e+02   1.19287541e+01   5.60153225e+00\n",
      "   2.11998044e+02   2.74838113e+02   1.83024727e+02  -9.80879999e+01\n",
      "   1.38845126e+02   4.94531873e+02   3.03339382e+00   3.19974261e+01\n",
      "  -5.65826069e-04   2.51316326e-01  -9.96559004e-03  -1.02659767e-03\n",
      "  -5.72693388e-02   1.13181054e-02   4.66071314e-02   2.89480220e-02\n",
      "  -7.33869037e-01   1.02994262e-02   3.09737811e-02  -3.95011994e-03\n",
      "   2.87091097e-01   1.49708368e-01  -3.54882768e-02  -2.96595820e-01\n",
      "  -1.78514370e-02  -2.10100063e-01  -7.63351431e-02  -4.29553862e-02\n",
      "  -2.23776606e-02   8.65913379e-04   8.61588853e-03  -3.42532767e-02\n",
      "  -5.37577350e-04   5.03592723e-04  -4.09697721e-02   9.79424316e+02\n",
      "   4.59723147e+02]\n",
      "Residual sum of squares, training data: 57319450.73\n",
      "Residual sum of squares, test data: 81629776.02\n",
      "Variance score, training data: 0.83\n",
      "Distribution of prediction error on training data:\n"
     ]
    },
    {
     "data": {
      "image/png": "[encoded data removed]",
      "text/plain": [
       "<matplotlib.figure.Figure at 0x1115ef7b8>"
      ]
     },
     "metadata": {},
     "output_type": "display_data"
    },
    {
     "name": "stdout",
     "output_type": "stream",
     "text": [
      "Distribution of prediction error on test data:\n"
     ]
    },
    {
     "data": {
      "image/png": "[encoded data removed]",
      "text/plain": [
       "<matplotlib.figure.Figure at 0x10cfa26a0>"
      ]
     },
     "metadata": {},
     "output_type": "display_data"
    }
   ],
   "source": [
    "# Create linear regression object\n",
    "regr = linear_model.LinearRegression()\n",
    "\n",
    "# Train the model using the training sets\n",
    "X_train_no_intercept = X_train\n",
    "X_train = X_train.reshape(-1, X_train.shape[1])\n",
    "regr.fit(X_train, y_train)\n",
    "\n",
    "# The intercept\n",
    "print('Intercept: \\n', regr.intercept_)\n",
    "# The coefficients\n",
    "print('Coefficients: \\n', regr.coef_)\n",
    "# The mean square error\n",
    "print(\"Residual sum of squares, training data: %.2f\"\n",
    "      % np.mean((regr.predict(X_train) - y_train) ** 2))\n",
    "print(\"Residual sum of squares, test data: %.2f\"\n",
    "      % np.mean((regr.predict(X_test) - y_test) ** 2))\n",
    "var_to_graph['multReg_linear'] = np.mean((regr.predict(X_test) - y_test) ** 2)\n",
    "# Explained variance score: 1 is perfect prediction\n",
    "print('Variance score, training data: %.2f' % regr.score(X_train, y_train))\n",
    "#vector of prediction error\n",
    "print('Distribution of prediction error on training data:')\n",
    "predError = regr.predict(X_train) - y_train\n",
    "plt.hist(predError)\n",
    "plt.show()\n",
    "\n",
    "print('Distribution of prediction error on test data:')\n",
    "predError = regr.predict(X_test) - y_test\n",
    "plt.hist(predError)\n",
    "plt.show()"
   ]
  },
  {
   "cell_type": "code",
   "execution_count": 20,
   "metadata": {
    "collapsed": true
   },
   "outputs": [],
   "source": [
    "# from sklearn.preprocessing import PolynomialFeatures\n",
    "# # DOC: http://scikit-learn.org/stable/modules/preprocessing.html\n",
    "# #taking same features and applying different powers to them \n",
    "\n",
    "# poly = PolynomialFeatures(2)\n",
    "# X_poly = poly.fit_transform(X)"
   ]
  },
  {
   "cell_type": "code",
   "execution_count": null,
   "metadata": {
    "collapsed": true
   },
   "outputs": [],
   "source": [
    "# create training and test sets\n",
    "from sklearn.cross_validation import train_test_split\n",
    "\n",
    "X_train, X_test, y_train, y_test = train_test_split(\n",
    "         X_poly, y, test_size=0.3, random_state=0)"
   ]
  },
  {
   "cell_type": "code",
   "execution_count": null,
   "metadata": {
    "collapsed": false
   },
   "outputs": [],
   "source": [
    "## POLYNOMINAL \n",
    "# Create linear regression object\n",
    "poly = linear_model.LinearRegression(normalize=True)\n",
    "\n",
    "# Train the model using the training sets\n",
    "X_train_no_intercept = X_train\n",
    "X_train = X_train.reshape(-1, X_train.shape[1])\n",
    "poly.fit(X_train, y_train)\n",
    "\n",
    "# The intercept\n",
    "print('Intercept: \\n', poly.intercept_)\n",
    "# The coefficients\n",
    "print('Coefficients: \\n', poly.coef_)\n",
    "# The mean square error\n",
    "print(\"Residual sum of squares, training data: %.2f\"\n",
    "      % np.mean((poly.predict(X_train) - y_train) ** 2))\n",
    "print(\"Residual sum of squares, test data: %.2f\"\n",
    "      % np.mean((poly.predict(X_test) - y_test) ** 2))\n",
    "var_to_graph['multReg_poly'] = np.mean((poly.predict(X_test) - y_test) ** 2)\n",
    "# Explained variance score: 1 is perfect prediction\n",
    "print('Variance score, training data: %.2f' % poly.score(X_train, y_train))\n",
    "print('Variance score, test data: %.2f' % poly.score(X_test, y_test))\n",
    "#vector of prediction error\n",
    "print('Distribution of prediction error on training data:')\n",
    "predError = poly.predict(X_train) - y_train\n",
    "plt.hist(predError)\n",
    "plt.show()\n",
    "\n",
    "print('Distribution of prediction error on test data:')\n",
    "predError = poly.predict(X_test) - y_test\n",
    "plt.hist(predError)\n",
    "plt.show()"
   ]
  },
  {
   "cell_type": "code",
   "execution_count": null,
   "metadata": {
    "collapsed": false
   },
   "outputs": [],
   "source": [
    "## RIDGE REGRESSION\n",
    "# DOC: http://scikit-learn.org/stable/modules/generated/sklearn.linear_model.Ridge.html\n",
    "\n",
    "# create training and test sets\n",
    "from sklearn.cross_validation import train_test_split\n",
    "\n",
    "X_train, X_test, y_train, y_test = train_test_split(\n",
    "         X, y, test_size=0.3, random_state=0)\n",
    "\n",
    "# Create linear regression object\n",
    "regr = linear_model.Ridge()\n",
    "\n",
    "# Train the model using the training sets\n",
    "X_train_no_intercept = X_train\n",
    "X_train = X_train.reshape(-1, X_train.shape[1])\n",
    "regr.fit(X_train, y_train)\n",
    "\n",
    "# The intercept\n",
    "print('Intercept: \\n', regr.intercept_)\n",
    "# The coefficients\n",
    "print('Coefficients: \\n', regr.coef_)\n",
    "# The mean square error\n",
    "print(\"Residual sum of squares, training data: %.2f\"\n",
    "      % np.mean((regr.predict(X_train) - y_train) ** 2))\n",
    "print(\"Residual sum of squares, test data: %.2f\"\n",
    "      % np.mean((regr.predict(X_test) - y_test) ** 2))\n",
    "var_to_graph['multReg_ridge'] = np.mean((regr.predict(X_test) - y_test) ** 2)\n",
    "# Explained variance score: 1 is perfect prediction\n",
    "print('Variance score, training data: %.2f' % regr.score(X_train, y_train))\n",
    "print('Variance score, training data: %.2f' % regr.score(X_test, y_test))\n",
    "#vector of prediction error\n",
    "print('Distribution of prediction error on training data:')\n",
    "predError = regr.predict(X_train) - y_train\n",
    "plt.hist(predError)\n",
    "plt.show()\n",
    "\n",
    "print('Distribution of prediction error on test data:')\n",
    "predError = regr.predict(X_test) - y_test\n",
    "plt.hist(predError)\n",
    "plt.show()"
   ]
  },
  {
   "cell_type": "code",
   "execution_count": null,
   "metadata": {
    "collapsed": false
   },
   "outputs": [],
   "source": [
    "# bar graph of dict with Residual Sum of Squares on test datasets\n",
    "\n",
    "var_to_graph['multReg_poly'] = 0\n",
    "#SET ABOVE TO ZERO TO REMOVE MULREG_POLY BECAUSE IT WAS TOO CRAZY DUE TO OUTLIERS AND OVERFITTING\n",
    "plt.bar(range(len(var_to_graph)), var_to_graph.values(), align='center')\n",
    "plt.xticks(range(len(var_to_graph)), var_to_graph.keys())\n",
    "\n",
    "plt.show()"
   ]
  },
  {
   "cell_type": "code",
   "execution_count": null,
   "metadata": {
    "collapsed": true
   },
   "outputs": [],
   "source": []
  },
  {
   "cell_type": "code",
   "execution_count": null,
   "metadata": {
    "collapsed": true
   },
   "outputs": [],
   "source": []
  },
  {
   "cell_type": "code",
   "execution_count": null,
   "metadata": {
    "collapsed": true
   },
   "outputs": [],
   "source": []
  },
  {
   "cell_type": "code",
   "execution_count": null,
   "metadata": {
    "collapsed": true
   },
   "outputs": [],
   "source": []
  },
  {
   "cell_type": "code",
   "execution_count": null,
   "metadata": {
    "collapsed": true
   },
   "outputs": [],
   "source": []
  }
 ],
 "metadata": {
  "kernelspec": {
   "display_name": "Python 3",
   "language": "python",
   "name": "python3"
  },
  "language_info": {
   "codemirror_mode": {
    "name": "ipython",
    "version": 3
   },
   "file_extension": ".py",
   "mimetype": "text/x-python",
   "name": "python",
   "nbconvert_exporter": "python",
   "pygments_lexer": "ipython3",
   "version": "3.5.1"
  }
 },
 "nbformat": 4,
 "nbformat_minor": 0
}
